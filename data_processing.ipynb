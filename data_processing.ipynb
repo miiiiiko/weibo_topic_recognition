{
 "cells": [
  {
   "cell_type": "code",
   "execution_count": 344,
   "id": "903a442f",
   "metadata": {},
   "outputs": [],
   "source": [
    "import pandas as pd\n",
    "import json\n",
    "from easonsi import utils\n",
    "from collections import defaultdict\n",
    "import matplotlib.pyplot as plt"
   ]
  },
  {
   "cell_type": "code",
   "execution_count": 345,
   "id": "8764e0b1",
   "metadata": {
    "scrolled": true
   },
   "outputs": [
    {
     "name": "stdout",
     "output_type": "stream",
     "text": [
      "   ID                                               Text         Label\n",
      "0   0   原来是这样啊，又是一个新的道理，简直让我长知识了，七星连珠是很难得的一种现象，这个解析也太到位了  label_878402\n",
      "1   1   老师好厉害，咱就是说，老师，能不能，就是，研究一下能不能穿越🙏 代入感很强，我已经想穿越去...  label_878402\n",
      "2   2  这个七星连珠的现象居然真的存在，我只在小说上面看过，太神奇了吧，至于其他的我也不太懂，科学现...  label_878402\n",
      "3   3        应该听过张老师讲，这一个的人都会觉得特别的清晰吧，而且也明白七星连珠不会引发危害。 ​  label_878402\n",
      "4   4                七星连珠这不是应该是天文知识吗，怎么物理也可以，学霸的世界我果然不懂啊  label_878402\n"
     ]
    }
   ],
   "source": [
    "dpath  = 'C:/Users/liuweican/人民网比赛/raw_data/train.csv'\n",
    "df = pd.read_csv(dpath,  sep='\\t', encoding=\"utf-8\")\n",
    "print(df.head())"
   ]
  },
  {
   "cell_type": "code",
   "execution_count": 346,
   "id": "c6d2c6ef",
   "metadata": {},
   "outputs": [],
   "source": [
    "def transfer_to_json(df,out_path):\n",
    "    fw = open(out_path, 'w', encoding='utf-8')\n",
    "    for i in range(len(df)):\n",
    "        l = {}\n",
    "        l[\"id\"] = int(df.iloc[i,0])\n",
    "        l[\"text\"] = df.iloc[i,1]\n",
    "        l[\"label\"] = df.iloc[i,2].split(\"，\")\n",
    "        l = json.dumps(l, ensure_ascii=False)\n",
    "        fw.write(l + '\\n')\n",
    "    fw.close()"
   ]
  },
  {
   "cell_type": "code",
   "execution_count": 347,
   "id": "f2efbf7b",
   "metadata": {},
   "outputs": [],
   "source": [
    "transfer_to_json(df,\"C:/Users/liuweican/人民网比赛/train.json\")"
   ]
  },
  {
   "cell_type": "code",
   "execution_count": 348,
   "id": "2f1223b6",
   "metadata": {},
   "outputs": [],
   "source": [
    "data = utils.LoadJsonl(\"C:/Users/liuweican/人民网比赛/train.json\")"
   ]
  },
  {
   "cell_type": "code",
   "execution_count": 349,
   "id": "c5955abd",
   "metadata": {
    "scrolled": true
   },
   "outputs": [
    {
     "name": "stdout",
     "output_type": "stream",
     "text": [
      "样本条数： 77314\n"
     ]
    }
   ],
   "source": [
    "print(\"样本条数：\",len(data))"
   ]
  },
  {
   "cell_type": "code",
   "execution_count": 350,
   "id": "1d026eb5",
   "metadata": {},
   "outputs": [],
   "source": [
    "categories = set()\n",
    "for d in data:\n",
    "    for label in d['label']:\n",
    "        categories.add(label)"
   ]
  },
  {
   "cell_type": "code",
   "execution_count": 351,
   "id": "5165ab11",
   "metadata": {},
   "outputs": [
    {
     "name": "stdout",
     "output_type": "stream",
     "text": [
      "标签个数： 1399\n"
     ]
    }
   ],
   "source": [
    "print(\"标签个数：\",len(categories))"
   ]
  },
  {
   "cell_type": "code",
   "execution_count": 352,
   "id": "8b577db7",
   "metadata": {},
   "outputs": [],
   "source": [
    "def count(data):\n",
    "    text_len_list = []\n",
    "    label_count_list = []\n",
    "    for d in data:\n",
    "        text = d['text']\n",
    "        label = d['label']\n",
    "        text_len_list.append(len(text))\n",
    "        label_count_list.append(len(label))\n",
    "      \n",
    "    return text_len_list,label_count_list\n",
    "    #return sum(text_len_list)/len(text_len_list),max(text_len_list), sum(label_count_list)/len(label_count_list),max(label_count_list)"
   ]
  },
  {
   "cell_type": "code",
   "execution_count": 353,
   "id": "cc97f219",
   "metadata": {},
   "outputs": [],
   "source": [
    "text_len_list,label_count_list = count(data)"
   ]
  },
  {
   "cell_type": "markdown",
   "id": "4f6db97e",
   "metadata": {},
   "source": [
    "文本长度信息"
   ]
  },
  {
   "cell_type": "code",
   "execution_count": 266,
   "id": "e0778436",
   "metadata": {},
   "outputs": [
    {
     "name": "stdout",
     "output_type": "stream",
     "text": [
      "文本平均长度： 55.01827612075433\n"
     ]
    }
   ],
   "source": [
    "print(\"文本平均长度：\",sum(text_len_list)/len(text_len_list))"
   ]
  },
  {
   "cell_type": "code",
   "execution_count": 267,
   "id": "6a96dfc4",
   "metadata": {},
   "outputs": [
    {
     "name": "stdout",
     "output_type": "stream",
     "text": [
      "最长文本长度： 271\n"
     ]
    }
   ],
   "source": [
    "print(\"最长文本长度：\",max(text_len_list))"
   ]
  },
  {
   "cell_type": "code",
   "execution_count": 268,
   "id": "a2ebf078",
   "metadata": {},
   "outputs": [
    {
     "data": {
      "image/png": "[encoded data removed]",
      "text/plain": [
       "<Figure size 432x288 with 1 Axes>"
      ]
     },
     "metadata": {
      "needs_background": "light"
     },
     "output_type": "display_data"
    }
   ],
   "source": [
    "plt.hist(text_len_list)\n",
    "plt.xlabel('text length')\n",
    "plt.show()"
   ]
  },
  {
   "cell_type": "markdown",
   "id": "d26ca5ba",
   "metadata": {},
   "source": [
    "单个样本的标签信息"
   ]
  },
  {
   "cell_type": "code",
   "execution_count": 269,
   "id": "35d5eb3d",
   "metadata": {},
   "outputs": [
    {
     "name": "stdout",
     "output_type": "stream",
     "text": [
      "平均样本标签数： 1.51751299893939\n"
     ]
    }
   ],
   "source": [
    "print('平均样本标签数：',sum(label_count_list)/len(label_count_list))"
   ]
  },
  {
   "cell_type": "code",
   "execution_count": 270,
   "id": "3ee4d1cb",
   "metadata": {},
   "outputs": [
    {
     "name": "stdout",
     "output_type": "stream",
     "text": [
      "最大样本标签数： 8\n"
     ]
    }
   ],
   "source": [
    "print('最大样本标签数：',max(label_count_list))"
   ]
  },
  {
   "cell_type": "code",
   "execution_count": 271,
   "id": "6e126879",
   "metadata": {},
   "outputs": [
    {
     "data": {
      "image/png": "[encoded data removed]",
      "text/plain": [
       "<Figure size 432x288 with 1 Axes>"
      ]
     },
     "metadata": {
      "needs_background": "light"
     },
     "output_type": "display_data"
    }
   ],
   "source": [
    "plt.hist(label_count_list)\n",
    "plt.xlabel('label_count')\n",
    "plt.show()"
   ]
  },
  {
   "cell_type": "markdown",
   "id": "9be183bf",
   "metadata": {},
   "source": [
    "单个标签类别信息"
   ]
  },
  {
   "cell_type": "code",
   "execution_count": 272,
   "id": "4965bc70",
   "metadata": {},
   "outputs": [],
   "source": [
    "def label_dis(data):\n",
    "    res = defaultdict(int)\n",
    "    for d in data:\n",
    "        for label in d['label']:\n",
    "            res[label] += 1\n",
    "    return res"
   ]
  },
  {
   "cell_type": "code",
   "execution_count": 273,
   "id": "88f8da7d",
   "metadata": {},
   "outputs": [],
   "source": [
    "label_count = label_dis(data)"
   ]
  },
  {
   "cell_type": "code",
   "execution_count": 286,
   "id": "9265ce1a",
   "metadata": {},
   "outputs": [],
   "source": [
    "#sorted(label_count.items(), key=lambda x : x[1],reverse=True)"
   ]
  },
  {
   "cell_type": "code",
   "execution_count": 275,
   "id": "e364af18",
   "metadata": {
    "scrolled": true
   },
   "outputs": [
    {
     "data": {
      "image/png": "[encoded data removed]",
      "text/plain": [
       "<Figure size 432x288 with 1 Axes>"
      ]
     },
     "metadata": {
      "needs_background": "light"
     },
     "output_type": "display_data"
    }
   ],
   "source": [
    "plt.hist(label_count.values(),bins=20)\n",
    "plt.xlabel('label_frequency')\n",
    "plt.show()"
   ]
  },
  {
   "cell_type": "markdown",
   "id": "55ca61b1",
   "metadata": {},
   "source": [
    "排除极端标签统计信息"
   ]
  },
  {
   "cell_type": "code",
   "execution_count": 333,
   "id": "b74b6e0a",
   "metadata": {},
   "outputs": [],
   "source": [
    "#统计标签个数\n",
    "def label_num(lable_count,func):\n",
    "  res=0\n",
    "  for l,v in label_count.items():\n",
    "        if func(v):\n",
    "            res+=1\n",
    "  return res"
   ]
  },
  {
   "cell_type": "code",
   "execution_count": 334,
   "id": "0096a281",
   "metadata": {},
   "outputs": [
    {
     "name": "stdout",
     "output_type": "stream",
     "text": [
      "出现次数为1的标签个数： 6\n",
      "出现次数>2的标签个数： 1389\n",
      "出现次数>5的标签个数： 1347\n",
      "出现次数>10的标签个数： 1075\n",
      "出现次数>20的标签个数： 620\n"
     ]
    }
   ],
   "source": [
    "print('出现次数为1的标签个数：',label_num(label_count,lambda x:x==1))\n",
    "print('出现次数>2的标签个数：',label_num(label_count,lambda x:x>2))\n",
    "print('出现次数>5的标签个数：',label_num(label_count,lambda x:x>5))\n",
    "print('出现次数>10的标签个数：',label_num(label_count,lambda x:x>10))\n",
    "print('出现次数>20的标签个数：',label_num(label_count,lambda x:x>20))"
   ]
  },
  {
   "cell_type": "code",
   "execution_count": 335,
   "id": "b136056b",
   "metadata": {},
   "outputs": [
    {
     "data": {
      "text/plain": [
       "['label_1208167',\n",
       " 'label_1467721',\n",
       " 'label_1153966',\n",
       " 'label_1249672',\n",
       " 'label_177089',\n",
       " 'label_1019030']"
      ]
     },
     "execution_count": 335,
     "metadata": {},
     "output_type": "execute_result"
    }
   ],
   "source": [
    "#去掉出现次数=1标签\n",
    "label_1=[]\n",
    "value_1=[]\n",
    "for l,v in label_count.items():\n",
    "    if v==1: \n",
    "        label_1.append(l)\n",
    "        value_1.append(v)\n",
    "new_label_count=dict(zip(label_1,value_1))\n",
    "#label为样本个数大于1的标签列表\n",
    "label_1"
   ]
  },
  {
   "cell_type": "code",
   "execution_count": 363,
   "id": "ccb8a79d",
   "metadata": {},
   "outputs": [
    {
     "name": "stdout",
     "output_type": "stream",
     "text": [
      "[1748, 11438, 32536, 32536, 43571, 69509]\n"
     ]
    }
   ],
   "source": [
    "#去除极端标签，数据保存到new_train.jason\n",
    "id_1=[]\n",
    "for i in range(len(df)):\n",
    "    for ll in df.iloc[i,2].split(\"，\"):\n",
    "        if ll in label_1:\n",
    "            id_1.append(int(df.iloc[i,0]))\n",
    "print(id_1)\n",
    "newdf=df.drop(id_1)\n",
    "newdf.to_csv(\"new_data.csv\",index=False,encoding=\"utf-8\")\n",
    "transfer_to_json(newdf,\"C:/Users/liuweican/人民网比赛/new_train.json\")"
   ]
  },
  {
   "cell_type": "markdown",
   "id": "cca4f1ec",
   "metadata": {},
   "source": [
    "对于样本个数为10-100的标签进行观察，猜测其标签语义（观察、举例）"
   ]
  },
  {
   "cell_type": "code",
   "execution_count": 280,
   "id": "8e52c3d8",
   "metadata": {},
   "outputs": [
    {
     "data": {
      "text/plain": [
       "989"
      ]
     },
     "execution_count": 280,
     "metadata": {},
     "output_type": "execute_result"
    }
   ],
   "source": [
    "#10-100\n",
    "label=[]\n",
    "for l,v in label_count.items():\n",
    "    if 10<=v<100: \n",
    "        label.append(l)\n",
    "len(label)"
   ]
  },
  {
   "cell_type": "code",
   "execution_count": 281,
   "id": "32fee306",
   "metadata": {},
   "outputs": [
    {
     "name": "stdout",
     "output_type": "stream",
     "text": [
      "标签： label_885654\n",
      "对应样本个数： 27\n",
      "对应样本texts：\n",
      " 【上海石化火灾目前未发现对周边水体环境造成影响，已有1人死亡】 🙏🙏🙏 上海石化火灾目前未发现对周边水体环境造成影响，已有1人死亡 澎湃新闻的微博视频 ​\n",
      "【上海石化火灾未发现对周边水体环境造成影响，已有1人死亡】6月18日清晨，位于上海金山的中石化上海石化乙二醇装置区域发生火灾。据新华网经初步了解，火灾已造成1人死亡。目前，未发现对周边水体环境造成影响。上海石化火灾未发现对周边水体环境造成影响，已有1人死亡 ...全文\n",
      "【上海石化火灾目前未发现对周边水体环境造成影响，已有1人死亡】6月18日清晨，位于上海金山的中石化上海石化乙二醇装置区域发生火灾。据新华网经初步了解，火灾已造成1人死亡。目前，未发现对周边水体环境造成影响。 ...全文\n",
      "【】据@上海石化在线 经初步核实，目前事故导致上海石化一名员工手臂轻微擦伤，一名第三方运输车辆驾驶员死亡，具体原因正在进一步调查。 ​​​​ ​\n",
      "【化工企业消防安全常识】化工企业消防安全工作如何做？该注意哪些问题？戳图学习 ​ ​​​\n",
      "【，目前未发现对周边水体环境造成影响】6月18日清晨，位于上海金山的中石化上海石化乙二醇装置区域发生火灾。据新华网经初步了解，火灾已造成1人死亡。目前，未发现对周边水体环境造成影响。 澎湃新闻的微博视频 ​​​\n",
      "【上海石化火灾未发现对周边水体环境造成影响，已有1人死亡】6月18日清晨，位于上海金山的中石化上海石化乙二醇装置区域发生火灾。据新华网经初步了解，火灾已造成1人死亡。目前，未发现对周边水体环境造成影响。 澎湃新闻的微博视频\n",
      "不幸中的万幸是：金山石化爆炸的是只是乙二醇，而不是氯气。需要了解的自救常识。   ​​​\n",
      "【上海石化火灾未发现对周边水体环境造成影响，已有1人死亡】6月18日清晨，位于上海金山的中石化上海石化乙二醇装置区域发生火灾。据新华网经初步了解，火灾已造成1人死亡。目前，未发现对周边水体环境造成影响。 澎湃新闻的微博视频 ...全文\n",
      "【别再疏忽大意～工厂防火安全注意啥？】消防安全，责任重于泰山！ 消防部门提醒：夏天到了，各企业要注意，厂房、仓库等防火不容忽视！ 江西消防的微博视频\n",
      "【 目前正在实施保护性燃烧】6月18日，。目前，现场火势已经得到控制，正在实施保护性燃烧。经初步核实，火灾已造成一名第三方运输车辆驾驶员死亡，具体原因正在进一步调查中。 壹现场的微博视频 ​​​\n",
      "6月18日清晨，位于上海金山的中石化上海石化乙二醇装置区域发生火灾。据新华网经初步了解，火灾已造成1人死亡。目前，未发现对周边水体环境造成影响。 周凡兹的微博视频\n",
      "航拍画面曝光！上海金山石化凌晨四点发生火情，爆炸声不断，浓浓乌烟遮天！119指挥中心已调派金山、奉贤、化工区等救援力量至现场进行扑救，目前正在全力救援中。 娱众逍遥的微博视频\n",
      "【上海石化火灾未发现对周边水体环境造成影响，已有1人死亡】6月18日清晨，位于上海金山的中石化上海石化乙二醇装置区域发生火灾。据新华网经初步了解，火灾已造成1人死亡。目前，未发现对周边水体环境造成影响。 澎湃新闻的微博视频 ​\n",
      "【化工企业消防安全常识】化工企业消防安全工作如何做？该注意哪些问题？戳图学习 \n",
      "【，目前未发现对周边水体环境造成影响】6月18日清晨，位于上海金山的中石化上海石化乙二醇装置区域发生火灾。据新华网经初步了解，火灾已造成1人死亡。目前，未发现对周边水体环境造成影响。 澎湃新闻的微博视频\n",
      "【上海石化火灾目前未发现对周边水体环境造成影响，已有1人死亡】6月18日清晨，位于上海金山的中石化上海石化乙二醇装置区域发生火灾。据新华网经初步了解，火灾已造成1人死亡。目前，未发现对周边水体环境造成影响。 ...全文\n",
      "【化工企业消防安全常识】化工企业消防安全工作如何做？该注意哪些问题？戳图学习 \n",
      "【别再疏忽大意～工厂防火安全注意啥？】消防安全，责任重于泰山！ @东营消防 提醒：夏天到了，各企业要注意，厂房、仓库等防火不容忽视！ 江西消防的微博视频 ​​​\n",
      " 希望消防员们都注意安全，愿所有人都能平安。🙏 ​​​\n",
      "【化工企业消防安全常识】化工企业消防安全工作如何做？该注意哪些问题？戳图学习 ​ ​​​\n",
      "【上海石化火灾未发现对周边水体环境造成影响，已有1人死亡】6月18日清晨，位于上海金山的中石化上海石化乙二醇装置区域发生火灾。据新华网经初步了解，火灾已造成1人死亡。目前，未发现对周边水体环境造成影响。澎湃新闻的微博视频\n",
      "【 目前正在实施保护性燃烧】6月18日，上海，据新华网消息，。目前，现场火势已经得到控制，正在实施保护性燃烧。经初步了解，火灾已造成一人死亡。@沸点壹刻 沸点壹刻的微博视频 ​​​\n",
      "【记者直击上海石化火情】6月18日4:00 左右，上海石化化工部乙二醇装置区域发生火情。上午9点左右，现场火势已经得到控制，正在实施保护性燃烧。触电新闻现场直击。 时间视频的微博视频 ​​​\n",
      "看这情况大火势已经过去，就是不知道这弥漫的烟雾有没有毒性。 丶木子井的微博视频 ​​​\n",
      "【化工企业消防安全常识】化工企业消防安全工作如何做？该注意哪些问题？戳图学习 ​ ​\n",
      " 6月18日清晨，位于上海金山的中石化上海石化乙二醇装置区域发生火灾。据新华网经初步了解，火灾已造成1人死亡。目前，未发现对周边水体环境造成影响。 via：上海石化火灾目前未发现对周边水体环境造成影响，已有1人死亡 澎湃新闻的微博视频 ​​​\n"
     ]
    }
   ],
   "source": [
    "#举例观察\n",
    "l=label[32]\n",
    "print('标签：',l)\n",
    "print('对应样本个数：',label_count[l])\n",
    "print('对应样本texts：')\n",
    "for d in data:\n",
    "    for ll in d['label']:\n",
    "        if l==ll:\n",
    "            print(d['text'])\n"
   ]
  },
  {
   "cell_type": "markdown",
   "id": "66167a76",
   "metadata": {},
   "source": [
    "将标签按频率排序，统一构建顺序并保存为文件，后续都使用同一编号"
   ]
  },
  {
   "cell_type": "code",
   "execution_count": 389,
   "id": "1c3fa4db",
   "metadata": {},
   "outputs": [],
   "source": [
    "import ljqpy\n",
    "tl = ljqpy.TokenList('tokenlist.txt',1,data,lambda x:x['label'],1)"
   ]
  },
  {
   "cell_type": "code",
   "execution_count": null,
   "id": "d6f7c0d7",
   "metadata": {},
   "outputs": [],
   "source": []
  }
 ],
 "metadata": {
  "kernelspec": {
   "display_name": "Python 3 (ipykernel)",
   "language": "python",
   "name": "python3"
  },
  "language_info": {
   "codemirror_mode": {
    "name": "ipython",
    "version": 3
   },
   "file_extension": ".py",
   "mimetype": "text/x-python",
   "name": "python",
   "nbconvert_exporter": "python",
   "pygments_lexer": "ipython3",
   "version": "3.9.12"
  }
 },
 "nbformat": 4,
 "nbformat_minor": 5
}
