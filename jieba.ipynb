{
 "cells": [
  {
   "cell_type": "code",
   "execution_count": 123,
   "id": "01da2058",
   "metadata": {},
   "outputs": [],
   "source": [
    "import pandas as pd\n",
    "import json\n",
    "from easonsi import utils\n",
    "from collections import defaultdict\n",
    "import matplotlib.pyplot as plt\n",
    "import sortlabel\n",
    "import ljqpy"
   ]
  },
  {
   "cell_type": "code",
   "execution_count": 124,
   "id": "42ea5786",
   "metadata": {},
   "outputs": [],
   "source": [
    "dpath = 'C:/Users/liuweican/人民网比赛/train.json'\n",
    "data = utils.LoadJsonl(dpath)\n",
    "source = ljqpy.LoadJsons('train.json')\n",
    "llist = sortlabel.TokenList('labellist.txt', source=source, func=lambda x: x['label'], low_freq=1, save_low_freq=1)"
   ]
  },
  {
   "cell_type": "code",
   "execution_count": 125,
   "id": "1fae5acd",
   "metadata": {},
   "outputs": [
    {
     "data": {
      "text/plain": [
       "388"
      ]
     },
     "execution_count": 125,
     "metadata": {},
     "output_type": "execute_result"
    }
   ],
   "source": [
    "llist.get_id('label_330218')"
   ]
  },
  {
   "cell_type": "code",
   "execution_count": 126,
   "id": "1d7dc8ba",
   "metadata": {
    "scrolled": true
   },
   "outputs": [
    {
     "name": "stdout",
     "output_type": "stream",
     "text": [
      "label_330218\n",
      "[' 冰粉如果除了红糖外必须加一样小料，你选择什么？ \\u200b\\u200b\\u200b\\u200b', ' 宋朝武大郎卖的炊饼更接近于今天的？ \\u200b', ' 来说说，在你的家乡，最有名的早餐是什么？ \\u200b\\u200b\\u200b', ' 你知道四大古城之一的“平遥古城”在哪个省吗？ \\u200b\\u200b\\u200b', ' 提问：“ 廿 ” 表示的数 目是？ \\u200b\\u200b\\u200b', ' A和B只能二选一，你的选择是 ___？ \\u200b\\u200b\\u200b\\u200b', '@兔子不吃豆腐 ：这是一只小天鹅？还是野鸭子？ 你们知道吗？？？  \\u200b', ' 提问：“大腹便便”的正确读音是 ？ \\u200b', ' 哪个单词不是“big”的替换词？ \\u200b\\u200b\\u200b', ' 评论区找老乡，“不要说话”，用你们家乡话怎么说？ \\u200b\\u200b\\u200b', ' 端午假期结束，考考你，“屈原”姓什么？ 网页链接', ' 评论区聊聊，你最爱吃的三种蔬菜是什么？ \\u200b\\u200b\\u200b\\u200b', ' 提问：“采菊东篱下”的上一句是？ \\u200b', ' 六一儿童节，如果用一张图代表四川人的童年，你觉得是啥子？ \\u200b', ' “荷花”用英语怎么说？ \\u200b\\u200b\\u200b', ' 在你的家乡，最有名的早餐是什么？ \\u200b\\u200b\\u200b\\u200b', ' 等疫情结束后，如果免费送你一场演唱会门票，你最想去看谁的演唱会？ \\u200b\\u200b\\u200b', ' 这种姜，大家喜欢怎么吃？ \\u200b\\u200b\\u200b', ' 提问：“天竺”是现在的哪个国家？ \\u200b', ' 考考你“采菊东篱下”的上一句是？ 网页链接', ' 来说说，你学生时代成绩最好的一门课程是_____？ \\u200b\\u200b\\u200b\\u200b', ' 提问：司马相如《凤求凰》中，“有一美人兮，见之不忘。一日不见兮，______。”空白处应填？ \\u200b\\u200b\\u200b', ' 这西瓜是来报仇的吧。 \\u200b\\u200b\\u200b\\u200b（思想聚焦） \\u200b', ' 图几 是你 完全不可能接受的？', ' 提问：你知道“葳蕤”怎么读吗？ \\u200b\\u200b\\u200b', ' 这个词据说90%的人都读错了？“聒噪”怎么读？ \\u200b', ' 还记得高三每次考试把书搬来搬去的日子吗？ \\u200b\\u200b\\u200b\\u200b', ' 一人来说一个暴露年龄的童年游戏吧 \\u200b\\u200b\\u200b\\u200b', ' 这种蔬菜在你家乡叫什么？喜欢怎么吃？', ' “天竺”是现在的哪个国家？ 网页链接', ' 提问：“砧板”怎么读？ \\u200b\\u200b\\u200b', '这个C位谁坐过？ \\u200b\\u200b\\u200b\\u200b  \\u200b\\u200b\\u200b', ' 今日高考第一门考试是语文，提问，“面面相觑”怎么读？ \\u200b\\u200b\\u200b', ' 如果接到十年后的你打来的电话，只能问一个问题的话，你会问什么？ \\u200b\\u200b\\u200b\\u200b', ' 把你刚刚复制的东西粘贴到这里吧！ \\u200b\\u200b\\u200b', ' 西游记中“唐三藏”的法号是？ \\u200b']\n"
     ]
    }
   ],
   "source": [
    "lid = 388\n",
    "text = []\n",
    "for d in data:\n",
    "    for l in d['label']:\n",
    "        if llist.get_id(l)==lid:\n",
    "            text.append(d['text'])\n",
    "print(llist.get_token(lid))\n",
    "print(text)"
   ]
  },
  {
   "cell_type": "code",
   "execution_count": 127,
   "id": "b64aa31d",
   "metadata": {},
   "outputs": [],
   "source": [
    "f=open(\"jieba_texts.txt\",\"w\",encoding='utf-8')\n",
    " \n",
    "f.writelines(text)\n",
    "f.close()"
   ]
  },
  {
   "cell_type": "code",
   "execution_count": 128,
   "id": "a53cac11",
   "metadata": {},
   "outputs": [
    {
     "name": "stdout",
     "output_type": "stream",
     "text": [
      "出现次数前十的词语为：\n",
      "u200b        91\n",
      "提问            8\n",
      "怎么            8\n",
      "什么            7\n",
      "如果            4\n",
      "哪个            4\n",
      "来说            3\n",
      "家乡            3\n",
      "知道            3\n",
      "网页            3\n"
     ]
    }
   ],
   "source": [
    "import jieba\n",
    "def p(x):\n",
    "    return x[1]\n",
    "#打开文件并读取\n",
    "test=open(\"C:/Users/liuweican/人民网比赛/词频文本.txt\",'r',encoding='UTF-8').read()\n",
    "#用jieba库的lcut对文章进行精准分词，并得到一个列表类型\n",
    "words=jieba.lcut(test)\n",
    "#创建空字典\n",
    "counts={}\n",
    "for word in words:\n",
    "    #若字符长度为1则不可能组成词语且可能会为标点符号，因此排除他们\n",
    "    if len(word)==1:\n",
    "        continue\n",
    "    # 把分出的词当作键，出现次数为值，初次出现时为0+1，随后每出现一次次数+1\n",
    "    else:\n",
    "        counts[word]=counts.get(word,0)+1\n",
    "#将counts中的所有键值对取出并制成列表类型\n",
    "items=list(counts.items())\n",
    "#将列表中元素排序\n",
    "items.sort(key=p,reverse=True)\n",
    "print(\"出现次数前十的词语为：\")\n",
    "for i in range(10):\n",
    "    word,count=items[i]\n",
    "    print(\"{0:<10}{1:>5}\".format(word,count))\n"
   ]
  },
  {
   "cell_type": "code",
   "execution_count": null,
   "id": "ae9ef40b",
   "metadata": {},
   "outputs": [],
   "source": []
  }
 ],
 "metadata": {
  "kernelspec": {
   "display_name": "Python 3 (ipykernel)",
   "language": "python",
   "name": "python3"
  },
  "language_info": {
   "codemirror_mode": {
    "name": "ipython",
    "version": 3
   },
   "file_extension": ".py",
   "mimetype": "text/x-python",
   "name": "python",
   "nbconvert_exporter": "python",
   "pygments_lexer": "ipython3",
   "version": "3.9.12"
  }
 },
 "nbformat": 4,
 "nbformat_minor": 5
}
