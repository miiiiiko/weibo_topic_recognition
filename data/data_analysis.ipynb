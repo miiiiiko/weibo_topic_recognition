{
 "cells": [
  {
   "cell_type": "code",
   "execution_count": 74,
   "metadata": {},
   "outputs": [
    {
     "data": {
      "text/plain": [
       "'/home/qsm22/weibo_topic_recognition/predict'"
      ]
     },
     "execution_count": 74,
     "metadata": {},
     "output_type": "execute_result"
    }
   ],
   "source": [
    "import os\n",
    "os.getcwd()"
   ]
  },
  {
   "cell_type": "code",
   "execution_count": 75,
   "metadata": {},
   "outputs": [],
   "source": [
    "import sys\n",
    "sys.path.append('..')\n",
    "from base1 import ljqpy,sortlabel\n",
    "from transformers import BertTokenizer\n",
    "import zhconv"
   ]
  },
  {
   "cell_type": "code",
   "execution_count": 92,
   "metadata": {},
   "outputs": [],
   "source": [
    "def load_data(fn):\n",
    "    # print('loading data')\n",
    "    return [(x[\"text_normd\"], x[\"label\"]) for x in ljqpy.LoadJsons(fn)]\n"
   ]
  },
  {
   "cell_type": "code",
   "execution_count": 76,
   "metadata": {},
   "outputs": [],
   "source": [
    "tokenizer = BertTokenizer.from_pretrained( 'hfl/chinese-roberta-wwm-ext')"
   ]
  },
  {
   "cell_type": "code",
   "execution_count": 77,
   "metadata": {},
   "outputs": [],
   "source": [
    "data = ljqpy.LoadJsons('../output/result/bad_case.json')"
   ]
  },
  {
   "cell_type": "code",
   "execution_count": 78,
   "metadata": {},
   "outputs": [],
   "source": [
    "special_indices = {'high_score_wrong':set(),'low_score_pred':set(),'unk':set(),'yue':set(),'han_tw':set()}"
   ]
  },
  {
   "cell_type": "code",
   "execution_count": 79,
   "metadata": {},
   "outputs": [],
   "source": [
    "yue_set = set(['嘢','睇'])"
   ]
  },
  {
   "cell_type": "code",
   "execution_count": 80,
   "metadata": {},
   "outputs": [],
   "source": [
    "for i,d in enumerate(data):\n",
    "    text = d['text']\n",
    "    yue_count = 0\n",
    "    for t in yue_set:\n",
    "        if t in text:\n",
    "            special_indices['yue'].add(i)\n",
    "    if zhconv.convert(text,'zh-cn') != text:\n",
    "        special_indices['han_tw'].add(i)\n",
    "    tokens = tokenizer.tokenize(text)\n",
    "    unk_cnt = tokens.count('[UNK]')\n",
    "    if unk_cnt/len(tokens) > 0.1:\n",
    "        special_indices['unk'].add(i)\n",
    "    true_label = set([x[0] for x in d['true_score']])\n",
    "    for l,s in d['pred_score']:\n",
    "        if s > 0.99 and l not in true_label:\n",
    "            special_indices['high_score_wrong'].add(i)\n",
    "        if s < 0.05:\n",
    "            special_indices['low_score_pred'].add(i)\n"
   ]
  },
  {
   "cell_type": "code",
   "execution_count": 81,
   "metadata": {},
   "outputs": [
    {
     "data": {
      "text/plain": [
       "{'high_score_wrong': 153,\n",
       " 'low_score_pred': 125,\n",
       " 'unk': 17,\n",
       " 'yue': 1,\n",
       " 'han_tw': 8}"
      ]
     },
     "execution_count": 81,
     "metadata": {},
     "output_type": "execute_result"
    }
   ],
   "source": [
    "{k:len(v) for k, v in special_indices.items()}"
   ]
  },
  {
   "cell_type": "code",
   "execution_count": 82,
   "metadata": {},
   "outputs": [
    {
     "name": "stdout",
     "output_type": "stream",
     "text": [
      " 🎵:BTBT—bi Colour_57的微博视频\n",
      "左航ZH🎀 🎀 “你是我在极寒中仍留有余温的玫瑰。” “You are the rose,stay warmed, in the extremely cool. ...全文\n",
      " 考场“严阵以待” 考生“整装待发” 考场“答疑解惑” 考生“金榜题名” \n",
      " 📷 尼康F5➕人精 富士pro400H ➕Xtra400 扫描 SP3000 苏州\n",
      "下凡贩卖可爱与快乐。 ——来着大儿童  \n",
      "张真源超话💚 💚 💚 “你永远是我明目张胆的偏爱” @时代少年团-张真源 \n",
      "“和浪漫见个面”☔️💐  \n",
      " 如意如意顺我心意🙏🙏🙏 \n",
      "🦞🦞🦞😵‍💫😵‍💫😵‍💫 \n",
      " 🧡 想做林☁️的小锁骨好爱好欲好性感 \n",
      "愿,每一岁都能奔走在自己的热爱里🏜 永远年轻,永远可乐加冰🥤;永远有钱,永远现场追星🌟♡ ʜᴀᴘᴘʏ ʙɪʀᴛʜᴅᴀʏ ᴛᴏ ᴍᴇ ◟̆◞̆ ♡ 🍰 \n",
      " 日常的镜头——都一个样 \n",
      " “空山松子落”的下一句是什么呢? \n",
      " 磨砺是广大青年最好的“成人礼”! \n",
      " 童心未泯!这个“六一”属于他们!童心未泯!这个“六一”属于他们!\n",
      "湖南工学院超话 【儿童节愿你快乐永不设限🌟】 六一儿童节到啦,无论是“大朋友”还是“小朋友”,无论团子们身在何地、志在何方,乘着童年的“纸飞机”🎈,和自己说一声“永远快乐”叭!网页链接 \n",
      " yby 袁冰妍粗来玩😭😭袁冰妍粗来玩😭😭袁冰妍粗来玩😭😭袁冰妍粗来玩😭😭袁冰妍粗来玩😭😭袁冰妍粗来玩😭😭 \n"
     ]
    }
   ],
   "source": [
    "for i in special_indices['unk']:\n",
    "    print(data[i]['text'])\n",
    "    # print(tokenizer.tokenize(data[i]['text']))"
   ]
  },
  {
   "cell_type": "code",
   "execution_count": 83,
   "metadata": {},
   "outputs": [
    {
     "name": "stdout",
     "output_type": "stream",
     "text": [
      "流嘢就坚嘢啊!我都想睇老豆屋企以前日日睇翡翠台,宜家就咩台都唔睇,就睇广州台 \n"
     ]
    }
   ],
   "source": [
    "for i in special_indices['yue']:\n",
    "    print(data[i]['text'])"
   ]
  },
  {
   "cell_type": "code",
   "execution_count": 84,
   "metadata": {},
   "outputs": [
    {
     "name": "stdout",
     "output_type": "stream",
     "text": [
      " 今日份第四餐已送达![奮鬥] \n",
      "好厉害(「・ω・)「嘿时影美图攻击 \n",
      " 还挺喜欢的,男主就是大男子主义又有点孩子气? 女主算是不娇气但是内心敏感那挂的 就是车很含蓄一笔带过有点可惜(可能我是lsp?)但也还行 “你去守国家吧,我来守着你” 很喜欢这句话,我可以为了你抛弃世界,但不能忍受你被世界拋棄,所以去吧,我守着你 \n",
      " 【靜止画mad】Frozen Forest [AR-15&M4A1] 2022还有少前的高质量MAD真不容易 \n",
      " 23018 附挂DF8B 0284和0172 50312 HXD3C 0503+DF11 0126 没来得及拍42924 第一次拍到了999318也算弥补了 甚至在全列宁盐特快中发现一节没拆掉裙板的漏网之鱼@东风4_1968 @ZBAARWY01_ @东风零二六_ @行萬里路Tony王 @玄色缎子 @Enoch-Xiang @天策恒星 \n",
      "一位年更选手提着生锈的剪刀向你走来 『 东 京 真 是,暧 昧 迷 人 眼。』 主CP:顾盼生辉✨ 副CP:东京女明星 x 江南小野花 拉丝必备道具:屏风(录人懂我意思8 (i BG和i GL的都沉默了)  Breezesugar的微博视频 \n",
      "竹星子老師......世界第一可愛....................................\n",
      "[淚][淚][淚][淚] \n"
     ]
    }
   ],
   "source": [
    "for i in special_indices['han_tw']:\n",
    "    print(data[i]['text'])"
   ]
  },
  {
   "cell_type": "code",
   "execution_count": 100,
   "metadata": {},
   "outputs": [
    {
     "name": "stdout",
     "output_type": "stream",
     "text": [
      "{'text': '突如其来?你没事还是我没事? ', 'true_score': [['label_467023', 4.29283801395286e-07, 199]], 'pred_score': [['label_529001', 0.9998687505722046]]}\n",
      "{'text': ' 堂食开了一天想炫八顿饭[awsl]开始过夏天了 ', 'true_score': [['label_1213556', 4.7113176151469816e-06, 56]], 'pred_score': [['label_1219604', 0.999263346195221]]}\n",
      "{'text': '钓鱼也有绝招 猎渔达人的微博视频 ', 'true_score': [['label_883929', 0.0012879488058388233, 2]], 'pred_score': [['label_303782', 0.9994107484817505]]}\n",
      "{'text': ' 好像最后一年浙江卷了? 那明年大概就可以清楚浙江卷和全国卷差距有多大了... (原来我爹妈要晚生我十二年我才轮得上考全国卷) ', 'true_score': [['label_742793', 7.848035238566808e-06, 2]], 'pred_score': [['label_896157', 0.9999828338623047]]}\n"
     ]
    }
   ],
   "source": [
    "for i in list(special_indices['high_score_wrong'])[:4]:\n",
    "    print(data[i])"
   ]
  },
  {
   "cell_type": "code",
   "execution_count": 111,
   "metadata": {},
   "outputs": [
    {
     "name": "stdout",
     "output_type": "stream",
     "text": [
      "{'text': ' 不知道味道怎么样,先买再说[憧憬] ', 'true_score': [['label_494321', 0.003926639445126057, 5], ['label_1278419', 0.0046974066644907, 4]], 'pred_score': [['label_559228', 0.016802607104182243]]}\n",
      "{'text': '回归计划经济时代?实现中华民族伟大复兴? ', 'true_score': [['label_811568', 0.003454340621829033, 3]], 'pred_score': [['label_1452931', 0.011749555356800556]]}\n",
      "{'text': ' 不会吧,不会吧,不会还有人没看过无删版吧 ', 'true_score': [['label_948220', 0.0006326241418719292, 12]], 'pred_score': [['label_915284', 0.0021523067262023687]]}\n",
      "{'text': '文字读懂了你的心,仿佛写出了你自己,那也是一种幸福。  ', 'true_score': [['label_830920', 8.280879342237313e-07, 512]], 'pred_score': [['label_329142', 0.04830767214298248]]}\n",
      "{'text': ' 如何说明我现在情况呢 就是真的有些尴尬 谢谢 不客气 我真的很难不笑场 是真的忍不住笑 这种相处模式 很不自然 ', 'true_score': [['label_846216', 0.0019708832260221243, 4]], 'pred_score': [['label_444067', 0.003682143986225128]]}\n",
      "{'text': '一觉醒来,我在四阿哥怀里 ', 'true_score': [['label_878402', 5.822562343382742e-07, 748]], 'pred_score': [['label_1102963', 0.011605892330408096]]}\n"
     ]
    }
   ],
   "source": [
    "for i in list(special_indices['low_score_pred'])[4:10]:\n",
    "    print(data[i])"
   ]
  },
  {
   "cell_type": "code",
   "execution_count": 89,
   "metadata": {},
   "outputs": [],
   "source": [
    "source = ljqpy.LoadJsons('../dataset/train.json')\n",
    "llist = sortlabel.TokenList('sortlabel.txt', source=source, func=lambda x:x['label'], low_freq=1, save_low_freq=1)"
   ]
  },
  {
   "cell_type": "code",
   "execution_count": 93,
   "metadata": {},
   "outputs": [],
   "source": [
    "from collections import defaultdict\n",
    "def label2text(dpath):\n",
    "    label2t = defaultdict(list)\n",
    "    for d in load_data(dpath):\n",
    "        for l in d[1]:\n",
    "            label2t[l].append(d[0])\n",
    "    return label2t"
   ]
  },
  {
   "cell_type": "code",
   "execution_count": 94,
   "metadata": {},
   "outputs": [],
   "source": [
    "label2t = label2text('../dataset/train_normd.json')"
   ]
  },
  {
   "cell_type": "code",
   "execution_count": 113,
   "metadata": {},
   "outputs": [
    {
     "data": {
      "text/plain": [
       "['半夜吃瓜需谨慎,现在躺在床上动也不敢动,睡也不敢睡,24字护体 ',\n",
       " '哈哈哈哈哈哈哈哈哈好多人呀明明很恐怖,台湾腔讲的我很兴奋哈哈哈哈哈哈哈哈哈哈哈哈 ',\n",
       " '半夜三点 5000➕ up主还连夜整理了新的瓜hhhhhh  ',\n",
       " ' 看了b站的视频 但是这跟jj有啥关系啊 ',\n",
       " '7000人+盛况有没有人去探探路 ',\n",
       " ' 9000➕人在看 吓死我了我去 ',\n",
       " '我怕了我溜,刚抖音刷到美国那个啥乐园一个经典追人场面(就是人坐在观光车上人家后面人追)我已经害怕极了 ',\n",
       " '为啥不是白天暴出来大晚上的不敢看👀 ',\n",
       " '呃...好无聊还以为有多吓人 ',\n",
       " '刚看完 好无聊 像是编的二流灵异故事 主角也跟林俊杰除了粉丝之外没啥关系啊 ']"
      ]
     },
     "execution_count": 113,
     "metadata": {},
     "output_type": "execute_result"
    }
   ],
   "source": [
    "label2t['label_1102963'][:10]"
   ]
  },
  {
   "cell_type": "code",
   "execution_count": 105,
   "metadata": {},
   "outputs": [
    {
     "data": {
      "text/plain": [
       "1279"
      ]
     },
     "execution_count": 105,
     "metadata": {},
     "output_type": "execute_result"
    }
   ],
   "source": [
    "llist.get_id('label_1253238')"
   ]
  }
 ],
 "metadata": {
  "kernelspec": {
   "display_name": "Python 3.7.13 ('22pj')",
   "language": "python",
   "name": "python3"
  },
  "language_info": {
   "codemirror_mode": {
    "name": "ipython",
    "version": 3
   },
   "file_extension": ".py",
   "mimetype": "text/x-python",
   "name": "python",
   "nbconvert_exporter": "python",
   "pygments_lexer": "ipython3",
   "version": "3.7.13"
  },
  "orig_nbformat": 4,
  "vscode": {
   "interpreter": {
    "hash": "4fdea46a3cf60d06dbc2d44a44e75671018a45b5585d8dde03ce766a05a31e59"
   }
  }
 },
 "nbformat": 4,
 "nbformat_minor": 2
}
